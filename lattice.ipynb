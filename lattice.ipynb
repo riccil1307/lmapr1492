{
 "cells": [
  {
   "cell_type": "code",
   "execution_count": 1,
   "id": "forty-copper",
   "metadata": {},
   "outputs": [],
   "source": [
    "from pymatgen.ext.matproj import MPRester\n",
    "from pymatgen.symmetry.analyzer import SpacegroupAnalyzer\n",
    "with MPRester(\"BTfRdPWCgouk2CI3AZ6\") as m:\n",
    "\n",
    "    struct = m.get_structure_by_material_id(\"mp-8882\")"
   ]
  },
  {
   "cell_type": "code",
   "execution_count": 2,
   "id": "animated-patient",
   "metadata": {},
   "outputs": [
    {
     "name": "stdout",
     "output_type": "stream",
     "text": [
      "Vecteurs de bases du réseau direct : \n",
      "1.940178 -3.360487 0.000000\n",
      "1.940178 3.360487 0.000000\n",
      "0.000000 0.000000 6.395361\n",
      "\n",
      "\n",
      "Longueurs (en Å) : \n",
      "a =  3.8803561110873575\n",
      "b =  3.8803561110873575\n",
      "c =  6.395361\n",
      "\n",
      "\n",
      "Angles (en degrés) : \n",
      "alpha =  90.0\n",
      "beta =  90.0\n",
      "gamma =  120.00000189402215\n"
     ]
    }
   ],
   "source": [
    "vect = struct.lattice\n",
    "abc = vect.abc\n",
    "angle = vect.angles\n",
    "\n",
    "print(\"Vecteurs de bases du réseau direct : \")\n",
    "print(vect)\n",
    "print(\"\\n\")\n",
    "\n",
    "print(\"Longueurs (en Å) : \")\n",
    "print(\"a = \",abc[0])\n",
    "print(\"b = \",abc[1])\n",
    "print(\"c = \",abc[2])\n",
    "print(\"\\n\")\n",
    "\n",
    "print(\"Angles (en degrés) : \")\n",
    "print(\"alpha = \",angle[0])\n",
    "print(\"beta = \",angle[1])\n",
    "print(\"gamma = \",angle[2])"
   ]
  },
  {
   "cell_type": "code",
   "execution_count": 3,
   "id": "uniform-celtic",
   "metadata": {},
   "outputs": [
    {
     "name": "stdout",
     "output_type": "stream",
     "text": [
      "Vecteurs de bases du réseau réciproque : \n",
      "1.940178 -3.360487 0.000000\n",
      "1.940178 3.360487 0.000000\n",
      "0.000000 0.000000 6.395361\n",
      "\n",
      "\n",
      "Longueurs (en Å) : \n",
      "a =  1.8697246818855324\n",
      "b =  1.8697246818855324\n",
      "c =  0.9824598341171962\n",
      "\n",
      "\n",
      "Angles (en degrés) :\n",
      "alpha =  90.0\n",
      "beta =  90.0\n",
      "gamma =  59.99999810597785\n"
     ]
    }
   ],
   "source": [
    "vect_r = struct.lattice.reciprocal_lattice\n",
    "abc_r = vect_r.abc\n",
    "angle_r = vect_r.angles\n",
    "\n",
    "print(\"Vecteurs de bases du réseau réciproque : \")\n",
    "print(vect)\n",
    "print(\"\\n\")\n",
    "\n",
    "print(\"Longueurs (en Å) : \")\n",
    "print(\"a = \",abc_r[0])\n",
    "print(\"b = \",abc_r[1])\n",
    "print(\"c = \",abc_r[2])\n",
    "print(\"\\n\")\n",
    "\n",
    "print(\"Angles (en degrés) :\")\n",
    "print(\"alpha = \",angle_r[0])\n",
    "print(\"beta = \",angle_r[1])\n",
    "print(\"gamma = \",angle_r[2])"
   ]
  },
  {
   "cell_type": "code",
   "execution_count": 4,
   "id": "usual-rally",
   "metadata": {},
   "outputs": [
    {
     "name": "stdout",
     "output_type": "stream",
     "text": [
      "Type de maille : \n",
      "\n",
      "hexagonal\n"
     ]
    }
   ],
   "source": [
    "print(\"Type de maille : \\n\")\n",
    "latt = SpacegroupAnalyzer(struct).get_lattice_type()\n",
    "print(latt[:])"
   ]
  },
  {
   "cell_type": "code",
   "execution_count": 5,
   "id": "alone-hammer",
   "metadata": {},
   "outputs": [
    {
     "name": "stdout",
     "output_type": "stream",
     "text": [
      "Système cristallin : \n",
      "\n",
      "hexagonal\n"
     ]
    }
   ],
   "source": [
    "print(\"Système cristallin : \\n\")\n",
    "syst = SpacegroupAnalyzer(struct).get_crystal_system()\n",
    "print(syst[:])"
   ]
  },
  {
   "cell_type": "code",
   "execution_count": 6,
   "id": "parental-procedure",
   "metadata": {},
   "outputs": [
    {
     "name": "stdout",
     "output_type": "stream",
     "text": [
      "Groupe ponctuel : \n",
      "\n",
      "6mm\n"
     ]
    }
   ],
   "source": [
    "print(\"Groupe ponctuel : \\n\")\n",
    "point = SpacegroupAnalyzer(struct).get_point_group_symbol()\n",
    "print(point)"
   ]
  }
 ],
 "metadata": {
  "kernelspec": {
   "display_name": "Python 3",
   "language": "python",
   "name": "python3"
  },
  "language_info": {
   "codemirror_mode": {
    "name": "ipython",
    "version": 3
   },
   "file_extension": ".py",
   "mimetype": "text/x-python",
   "name": "python",
   "nbconvert_exporter": "python",
   "pygments_lexer": "ipython3",
   "version": "3.6.8"
  }
 },
 "nbformat": 4,
 "nbformat_minor": 5
}
