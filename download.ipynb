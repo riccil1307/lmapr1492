{
 "cells": [
  {
   "cell_type": "code",
   "execution_count": 4,
   "id": "green-delay",
   "metadata": {},
   "outputs": [],
   "source": [
    "from jupyter_jsmol.pymatgen import quick_view\n",
    "from pymatgen.ext.matproj import MPRester\n",
    "from pymatgen.io.cif import CifWriter "
   ]
  },
  {
   "cell_type": "code",
   "execution_count": 7,
   "id": "communist-spider",
   "metadata": {},
   "outputs": [],
   "source": [
    "with MPRester(\"BTfRdPWCgouk2CI3AZ6\") as m:\n",
    "     \n",
    "    # Structure for material id\n",
    "    structure = m.get_structure_by_material_id(\"mp-8882\")\n",
    "    \n",
    "w = CifWriter(structure,0.1)\n",
    "w.write_file('mystructure.cif')"
   ]
  },
  {
   "cell_type": "code",
   "execution_count": 6,
   "id": "concerned-shade",
   "metadata": {},
   "outputs": [
    {
     "data": {
      "application/vnd.jupyter.widget-view+json": {
       "model_id": "5df1cdab21f241a1b345c94a8130973b",
       "version_major": 2,
       "version_minor": 0
      },
      "text/plain": [
       "JsmolView(layout=Layout(align_self='stretch', height='400px'))"
      ]
     },
     "metadata": {},
     "output_type": "display_data"
    }
   ],
   "source": [
    "#Visualisation : \n",
    "view = quick_view(structure)\n",
    "display(view)"
   ]
  }
 ],
 "metadata": {
  "kernelspec": {
   "display_name": "Python 3",
   "language": "python",
   "name": "python3"
  },
  "language_info": {
   "codemirror_mode": {
    "name": "ipython",
    "version": 3
   },
   "file_extension": ".py",
   "mimetype": "text/x-python",
   "name": "python",
   "nbconvert_exporter": "python",
   "pygments_lexer": "ipython3",
   "version": "3.6.8"
  }
 },
 "nbformat": 4,
 "nbformat_minor": 5
}
